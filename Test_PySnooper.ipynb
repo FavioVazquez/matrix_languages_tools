{
 "cells": [
  {
   "cell_type": "code",
   "execution_count": 2,
   "metadata": {},
   "outputs": [
    {
     "name": "stdout",
     "output_type": "stream",
     "text": [
      "Collecting pysnooper\n",
      "  Using cached https://files.pythonhosted.org/packages/49/b5/47cf4aa1531cb45c1516e248fc12ec9be0a6905e90b93b717f94e362b8cf/PySnooper-0.0.25-py2.py3-none-any.whl\n",
      "Installing collected packages: pysnooper\n",
      "Successfully installed pysnooper-0.0.25\n"
     ]
    }
   ],
   "source": [
    "!pip install --user pysnooper"
   ]
  },
  {
   "cell_type": "code",
   "execution_count": 1,
   "metadata": {},
   "outputs": [
    {
     "name": "stderr",
     "output_type": "stream",
     "text": [
      "Starting var:.. number = 6\n",
      "13:37:52.513302 call         4 def number_to_bits(number):\n",
      "13:37:52.513486 line         5     if number:\n",
      "13:37:52.513546 line         6         bits = []\n",
      "New var:....... bits = []\n",
      "13:37:52.513615 line         7         while number:\n",
      "13:37:52.513653 line         8             number, remainder = divmod(number, 2)\n",
      "New var:....... remainder = 0\n",
      "Modified var:.. number = 3\n",
      "13:37:52.513719 line         9             bits.insert(0, remainder)\n",
      "Modified var:.. bits = [0]\n",
      "13:37:52.513773 line         7         while number:\n",
      "13:37:52.513810 line         8             number, remainder = divmod(number, 2)\n",
      "Modified var:.. number = 1\n",
      "Modified var:.. remainder = 1\n",
      "13:37:52.513884 line         9             bits.insert(0, remainder)\n",
      "Modified var:.. bits = [1, 0]\n",
      "13:37:52.514911 line         7         while number:\n",
      "13:37:52.515004 line         8             number, remainder = divmod(number, 2)\n",
      "Modified var:.. number = 0\n",
      "13:37:52.515145 line         9             bits.insert(0, remainder)\n",
      "Modified var:.. bits = [1, 1, 0]\n",
      "13:37:52.515308 line         7         while number:\n",
      "13:37:52.515386 line        10         return bits\n",
      "13:37:52.515463 return      10         return bits\n",
      "Return value:.. [1, 1, 0]\n"
     ]
    },
    {
     "data": {
      "text/plain": [
       "[1, 1, 0]"
      ]
     },
     "execution_count": 1,
     "metadata": {},
     "output_type": "execute_result"
    }
   ],
   "source": [
    "import pysnooper\n",
    "\n",
    "@pysnooper.snoop()\n",
    "def number_to_bits(number):\n",
    "    if number:\n",
    "        bits = []\n",
    "        while number:\n",
    "            number, remainder = divmod(number, 2)\n",
    "            bits.insert(0, remainder)\n",
    "        return bits\n",
    "    else:\n",
    "        return [0]\n",
    "\n",
    "number_to_bits(6)"
   ]
  },
  {
   "cell_type": "code",
   "execution_count": null,
   "metadata": {},
   "outputs": [],
   "source": []
  }
 ],
 "metadata": {
  "kernelspec": {
   "display_name": "Python 3",
   "language": "python",
   "name": "python3"
  },
  "language_info": {
   "codemirror_mode": {
    "name": "ipython",
    "version": 3
   },
   "file_extension": ".py",
   "mimetype": "text/x-python",
   "name": "python",
   "nbconvert_exporter": "python",
   "pygments_lexer": "ipython3",
   "version": "3.6.8"
  }
 },
 "nbformat": 4,
 "nbformat_minor": 2
}
