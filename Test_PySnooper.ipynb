{
 "cells": [
  {
   "cell_type": "code",
   "execution_count": 2,
   "metadata": {},
   "outputs": [
    {
     "name": "stdout",
     "output_type": "stream",
     "text": [
      "Collecting pysnooper\n",
      "  Using cached https://files.pythonhosted.org/packages/49/b5/47cf4aa1531cb45c1516e248fc12ec9be0a6905e90b93b717f94e362b8cf/PySnooper-0.0.25-py2.py3-none-any.whl\n",
      "Installing collected packages: pysnooper\n",
      "Successfully installed pysnooper-0.0.25\n"
     ]
    }
   ],
   "source": [
    "!pip install --user pysnooper"
   ]
  },
  {
   "cell_type": "markdown",
   "metadata": {},
   "source": [
    "# Restart the kernel before trying the package"
   ]
  },
  {
   "cell_type": "markdown",
   "metadata": {},
   "source": [
    "## Fibonacci numbers\n",
    "\n",
    "The Fibonacci numbers are the numbers in the following integer sequence.\n",
    "0, 1, 1, 2, 3, 5, 8, 13, 21, 34, 55, 89, 144, ……..\n",
    "\n",
    "In mathematical terms, the sequence Fn of Fibonacci numbers is defined by the recurrence relation:\n",
    "\n",
    "$$\n",
    "F_n = F_{n-1} + F_{n-2}\n",
    "$$\n",
    "\n",
    "with \n",
    "\n",
    "$$\n",
    "F_0 = 0\n",
    "$$"
   ]
  },
  {
   "cell_type": "code",
   "execution_count": 2,
   "metadata": {},
   "outputs": [
    {
     "name": "stderr",
     "output_type": "stream",
     "text": [
      "Starting var:.. n = 6\n",
      "13:39:59.619702 call         4 def number_to_bits(number):\n",
      "13:39:59.619868 line         5     if number:\n",
      "13:39:59.620520 line         8             number, remainder = divmod(number, 2)\n",
      "13:39:59.620588 line        11     else:\n",
      "13:39:59.620653 line        14 number_to_bits(6)\n",
      "Starting var:.. n = 5\n",
      "13:39:59.620717 call         4 def number_to_bits(number):\n",
      "13:39:59.620746 line         5     if number:\n",
      "13:39:59.620767 line         8             number, remainder = divmod(number, 2)\n",
      "13:39:59.620786 line        11     else:\n",
      "13:39:59.620805 line        14 number_to_bits(6)\n",
      "Starting var:.. n = 4\n",
      "13:39:59.620845 call         4 def number_to_bits(number):\n",
      "13:39:59.620867 line         5     if number:\n",
      "13:39:59.620890 line         8             number, remainder = divmod(number, 2)\n",
      "13:39:59.620910 line        11     else:\n",
      "13:39:59.620932 line        14 number_to_bits(6)\n",
      "Starting var:.. n = 3\n",
      "13:39:59.620986 call         4 def number_to_bits(number):\n",
      "13:39:59.621008 line         5     if number:\n",
      "13:39:59.621027 line         8             number, remainder = divmod(number, 2)\n",
      "13:39:59.621045 line        11     else:\n",
      "13:39:59.621064 line        14 number_to_bits(6)\n",
      "Starting var:.. n = 2\n",
      "13:39:59.621102 call         4 def number_to_bits(number):\n",
      "13:39:59.621125 line         5     if number:\n",
      "13:39:59.621143 line         8             number, remainder = divmod(number, 2)\n",
      "13:39:59.621161 line        11     else:\n",
      "13:39:59.621179 line        12         return [0]\n",
      "13:39:59.696688 return      12         return [0]\n",
      "Return value:.. 1\n",
      "Starting var:.. n = 1\n",
      "13:39:59.699057 call         4 def number_to_bits(number):\n",
      "13:39:59.699177 line         5     if number:\n",
      "13:39:59.699251 line         8             number, remainder = divmod(number, 2)\n",
      "13:39:59.699747 line         9             bits.insert(0, remainder)\n",
      "13:39:59.699906 return       9             bits.insert(0, remainder)\n",
      "Return value:.. 0\n",
      "13:39:59.700095 return      14 number_to_bits(6)\n",
      "Return value:.. 1\n",
      "Starting var:.. n = 2\n",
      "13:39:59.700483 call         4 def number_to_bits(number):\n",
      "13:39:59.700575 line         5     if number:\n",
      "13:39:59.700657 line         8             number, remainder = divmod(number, 2)\n",
      "13:39:59.700729 line        11     else:\n",
      "13:39:59.700794 line        12         return [0]\n",
      "13:39:59.700859 return      12         return [0]\n",
      "Return value:.. 1\n",
      "13:39:59.701010 return      14 number_to_bits(6)\n",
      "Return value:.. 2\n",
      "Starting var:.. n = 3\n",
      "13:39:59.701526 call         4 def number_to_bits(number):\n",
      "13:39:59.701618 line         5     if number:\n",
      "13:39:59.701707 line         8             number, remainder = divmod(number, 2)\n",
      "13:39:59.701773 line        11     else:\n",
      "13:39:59.701837 line        14 number_to_bits(6)\n",
      "Starting var:.. n = 2\n",
      "13:39:59.701984 call         4 def number_to_bits(number):\n",
      "13:39:59.702058 line         5     if number:\n",
      "13:39:59.702100 line         8             number, remainder = divmod(number, 2)\n",
      "13:39:59.702160 line        11     else:\n",
      "13:39:59.702421 line        12         return [0]\n",
      "13:39:59.702499 return      12         return [0]\n",
      "Return value:.. 1\n",
      "Starting var:.. n = 1\n",
      "13:39:59.702703 call         4 def number_to_bits(number):\n",
      "13:39:59.702795 line         5     if number:\n",
      "13:39:59.702868 line         8             number, remainder = divmod(number, 2)\n",
      "13:39:59.702932 line         9             bits.insert(0, remainder)\n",
      "13:39:59.703003 return       9             bits.insert(0, remainder)\n",
      "Return value:.. 0\n",
      "13:39:59.703122 return      14 number_to_bits(6)\n",
      "Return value:.. 1\n",
      "13:39:59.703290 return      14 number_to_bits(6)\n",
      "Return value:.. 3\n",
      "Starting var:.. n = 4\n",
      "13:39:59.703482 call         4 def number_to_bits(number):\n",
      "13:39:59.703560 line         5     if number:\n",
      "13:39:59.703635 line         8             number, remainder = divmod(number, 2)\n",
      "13:39:59.703700 line        11     else:\n",
      "13:39:59.703762 line        14 number_to_bits(6)\n",
      "Starting var:.. n = 3\n",
      "13:39:59.703886 call         4 def number_to_bits(number):\n",
      "13:39:59.703952 line         5     if number:\n",
      "13:39:59.704022 line         8             number, remainder = divmod(number, 2)\n",
      "13:39:59.704083 line        11     else:\n",
      "13:39:59.704145 line        14 number_to_bits(6)\n",
      "Starting var:.. n = 2\n",
      "13:39:59.704340 call         4 def number_to_bits(number):\n",
      "13:39:59.704412 line         5     if number:\n",
      "13:39:59.704478 line         8             number, remainder = divmod(number, 2)\n",
      "13:39:59.704541 line        11     else:\n",
      "13:39:59.704603 line        12         return [0]\n",
      "13:39:59.704676 return      12         return [0]\n",
      "Return value:.. 1\n",
      "Starting var:.. n = 1\n",
      "13:39:59.704868 call         4 def number_to_bits(number):\n",
      "13:39:59.704935 line         5     if number:\n",
      "13:39:59.705007 line         8             number, remainder = divmod(number, 2)\n",
      "13:39:59.705071 line         9             bits.insert(0, remainder)\n",
      "13:39:59.705132 return       9             bits.insert(0, remainder)\n",
      "Return value:.. 0\n",
      "13:39:59.705435 return      14 number_to_bits(6)\n",
      "Return value:.. 1\n",
      "Starting var:.. n = 2\n",
      "13:39:59.705639 call         4 def number_to_bits(number):\n",
      "13:39:59.705712 line         5     if number:\n",
      "13:39:59.705775 line         8             number, remainder = divmod(number, 2)\n",
      "13:39:59.705836 line        11     else:\n",
      "13:39:59.705897 line        12         return [0]\n",
      "13:39:59.705957 return      12         return [0]\n",
      "Return value:.. 1\n",
      "13:39:59.706082 return      14 number_to_bits(6)\n",
      "Return value:.. 2\n",
      "13:39:59.706225 return      14 number_to_bits(6)\n",
      "Return value:.. 5\n"
     ]
    },
    {
     "data": {
      "text/plain": [
       "5"
      ]
     },
     "execution_count": 2,
     "metadata": {},
     "output_type": "execute_result"
    }
   ],
   "source": [
    "import pysnooper\n",
    "\n",
    "@pysnooper.snoop()\n",
    "def fibonacci(n): \n",
    "    if n<0: \n",
    "        print(\"Incorrect input\") \n",
    "    # First Fibonacci number is 0 \n",
    "    elif n==1: \n",
    "        return 0\n",
    "    # Second Fibonacci number is 1 \n",
    "    elif n==2: \n",
    "        return 1\n",
    "    else: \n",
    "        return fibonacci(n-1)+fibonacci(n-2)\n",
    "\n",
    "fibonacci(6)"
   ]
  },
  {
   "cell_type": "code",
   "execution_count": null,
   "metadata": {},
   "outputs": [],
   "source": []
  }
 ],
 "metadata": {
  "kernelspec": {
   "display_name": "Python 3",
   "language": "python",
   "name": "python3"
  },
  "language_info": {
   "codemirror_mode": {
    "name": "ipython",
    "version": 3
   },
   "file_extension": ".py",
   "mimetype": "text/x-python",
   "name": "python",
   "nbconvert_exporter": "python",
   "pygments_lexer": "ipython3",
   "version": "3.6.8"
  }
 },
 "nbformat": 4,
 "nbformat_minor": 2
}
