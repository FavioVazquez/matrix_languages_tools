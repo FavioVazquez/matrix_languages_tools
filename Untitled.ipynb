{
 "cells": [
  {
   "cell_type": "code",
   "execution_count": 1,
   "metadata": {},
   "outputs": [
    {
     "ename": "ArgumentError",
     "evalue": "ArgumentError: Package Queryverse not found in current path:\n- Run `import Pkg; Pkg.add(\"Queryverse\")` to install the Queryverse package.\n",
     "output_type": "error",
     "traceback": [
      "ArgumentError: Package Queryverse not found in current path:\n- Run `import Pkg; Pkg.add(\"Queryverse\")` to install the Queryverse package.\n",
      "",
      "Stacktrace:",
      " [1] require(::Module, ::Symbol) at ./loading.jl:823",
      " [2] top-level scope at In[1]:1"
     ]
    }
   ],
   "source": [
    "using Queryverse, VegaDatasets, IndexedTables"
   ]
  },
  {
   "cell_type": "code",
   "execution_count": null,
   "metadata": {},
   "outputs": [],
   "source": []
  }
 ],
 "metadata": {
  "kernelspec": {
   "display_name": "Julia 1.1.0",
   "language": "julia",
   "name": "julia-1.1"
  },
  "language_info": {
   "file_extension": ".jl",
   "mimetype": "application/julia",
   "name": "julia",
   "version": "1.1.0"
  }
 },
 "nbformat": 4,
 "nbformat_minor": 2
}
