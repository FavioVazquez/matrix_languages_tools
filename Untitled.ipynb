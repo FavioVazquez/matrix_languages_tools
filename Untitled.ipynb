{
 "cells": [
  {
   "cell_type": "code",
   "execution_count": 2,
   "metadata": {},
   "outputs": [
    {
     "name": "stdout",
     "output_type": "stream",
     "text": [
      "\u001b[32m\u001b[1m  Updating\u001b[22m\u001b[39m registry at `/opt/julia/registries/General`\n"
     ]
    },
    {
     "name": "stderr",
     "output_type": "stream",
     "text": [
      "┌ Warning: Some registries failed to update:\n",
      "│     — `/opt/julia/registries/General` — registry dirty\n",
      "└ @ Pkg.Types /buildworker/worker/package_linux64/build/usr/share/julia/stdlib/v1.1/Pkg/src/Types.jl:1269\n"
     ]
    },
    {
     "name": "stdout",
     "output_type": "stream",
     "text": [
      "\u001b[32m\u001b[1m Resolving\u001b[22m\u001b[39m package versions...\n",
      "\u001b[32m\u001b[1m Installed\u001b[22m\u001b[39m GenericSVD ─────── v0.2.1\n",
      "\u001b[32m\u001b[1m Installed\u001b[22m\u001b[39m Queryverse ─────── v0.3.1\n",
      "\u001b[32m\u001b[1m Installed\u001b[22m\u001b[39m FilePathsBase ──── v0.4.0\n",
      "\u001b[32m\u001b[1m Installed\u001b[22m\u001b[39m Libz ───────────── v1.0.0\n",
      "\u001b[32m\u001b[1m Installed\u001b[22m\u001b[39m GenericSchur ───── v0.2.3\n",
      "\u001b[32m\u001b[1m Installed\u001b[22m\u001b[39m Electron ───────── v1.0.0\n",
      "\u001b[32m\u001b[1m Installed\u001b[22m\u001b[39m Rsvg ───────────── v0.2.3\n",
      "\u001b[32m\u001b[1m Installed\u001b[22m\u001b[39m DataValues ─────── v0.4.7\n",
      "\u001b[32m\u001b[1m Installed\u001b[22m\u001b[39m TableShowUtils ─── v0.2.5\n",
      "\u001b[32m\u001b[1m Installed\u001b[22m\u001b[39m MemPool ────────── v0.2.0\n",
      "\u001b[32m\u001b[1m Installed\u001b[22m\u001b[39m TableTraitsUtils ─ v0.4.0\n",
      "\u001b[32m\u001b[1m Installed\u001b[22m\u001b[39m QueryTables ────── v0.0.1\n",
      "\u001b[32m\u001b[1m Installed\u001b[22m\u001b[39m IterableTables ─── v0.11.0\n",
      "\u001b[32m\u001b[1m Installed\u001b[22m\u001b[39m Query ──────────── v0.11.0\n",
      "\u001b[32m\u001b[1m Installed\u001b[22m\u001b[39m Quadmath ───────── v0.4.0\n",
      "\u001b[32m\u001b[1m Installed\u001b[22m\u001b[39m DataVoyager ────── v0.3.1\n",
      "\u001b[32m\u001b[1m Installed\u001b[22m\u001b[39m HTTPClient ─────── v0.2.1\n",
      "\u001b[32m\u001b[1m Installed\u001b[22m\u001b[39m Polynomials ────── v0.5.2\n",
      "\u001b[32m\u001b[1m Installed\u001b[22m\u001b[39m ZipFile ────────── v0.8.1\n",
      "\u001b[32m\u001b[1m Installed\u001b[22m\u001b[39m BufferedStreams ── v1.0.0\n",
      "\u001b[32m\u001b[1m Installed\u001b[22m\u001b[39m ReadStat ───────── v0.4.1\n",
      "\u001b[32m\u001b[1m Installed\u001b[22m\u001b[39m XLSX ───────────── v0.4.7\n",
      "\u001b[32m\u001b[1m Installed\u001b[22m\u001b[39m Thrift ─────────── v0.6.0\n",
      "\u001b[32m\u001b[1m Installed\u001b[22m\u001b[39m NodeJS ─────────── v0.6.0\n",
      "\u001b[32m\u001b[1m Installed\u001b[22m\u001b[39m FeatherFiles ───── v0.8.1\n",
      "\u001b[32m\u001b[1m Installed\u001b[22m\u001b[39m Snappy ─────────── v0.3.0\n",
      "\u001b[32m\u001b[1m Installed\u001b[22m\u001b[39m FlatBuffers ────── v0.5.3\n",
      "\u001b[32m\u001b[1m Installed\u001b[22m\u001b[39m LibExpat ───────── v0.5.0\n",
      "\u001b[32m\u001b[1m Installed\u001b[22m\u001b[39m Arrow ──────────── v0.2.3\n",
      "\u001b[32m\u001b[1m Installed\u001b[22m\u001b[39m Homebrew ───────── v0.7.1\n",
      "\u001b[32m\u001b[1m Installed\u001b[22m\u001b[39m WinRPM ─────────── v0.4.2\n",
      "\u001b[32m\u001b[1m Installed\u001b[22m\u001b[39m ExcelFiles ─────── v0.9.1\n",
      "\u001b[32m\u001b[1m Installed\u001b[22m\u001b[39m VegaLite ───────── v0.6.0\n",
      "\u001b[32m\u001b[1m Installed\u001b[22m\u001b[39m QueryOperators ─── v0.8.0\n",
      "\u001b[32m\u001b[1m Installed\u001b[22m\u001b[39m Parquet ────────── v0.2.0\n",
      "\u001b[32m\u001b[1m Installed\u001b[22m\u001b[39m DoubleFloats ───── v0.8.2\n",
      "\u001b[32m\u001b[1m Installed\u001b[22m\u001b[39m FeatherLib ─────── v0.1.3\n",
      "\u001b[32m\u001b[1m Installed\u001b[22m\u001b[39m CSVFiles ───────── v0.15.0\n",
      "\u001b[32m\u001b[1m Installed\u001b[22m\u001b[39m ProtoBuf ───────── v0.7.0\n",
      "\u001b[32m\u001b[1m Installed\u001b[22m\u001b[39m TextParse ──────── v0.9.1\n",
      "\u001b[32m\u001b[1m Installed\u001b[22m\u001b[39m FilePaths ──────── v0.7.0\n",
      "\u001b[32m\u001b[1m Installed\u001b[22m\u001b[39m Nullables ──────── v0.0.8\n",
      "\u001b[32m\u001b[1m Installed\u001b[22m\u001b[39m ExcelReaders ───── v0.11.0\n",
      "\u001b[32m\u001b[1m Installed\u001b[22m\u001b[39m StatFiles ──────── v0.8.0\n",
      "\u001b[32m\u001b[1m Installed\u001b[22m\u001b[39m StringEncodings ── v0.3.1\n",
      "\u001b[32m\u001b[1m Installed\u001b[22m\u001b[39m LibCURL ────────── v0.5.1\n",
      "\u001b[32m\u001b[1m Installed\u001b[22m\u001b[39m Cairo ──────────── v0.6.0\n",
      "\u001b[32m\u001b[1m Installed\u001b[22m\u001b[39m ParquetFiles ───── v0.2.0\n",
      "\u001b[32m\u001b[1m  Updating\u001b[22m\u001b[39m `/opt/julia/environments/v1.1/Project.toml`\n",
      " \u001b[90m [612083be]\u001b[39m\u001b[92m + Queryverse v0.3.1\u001b[39m\n",
      "\u001b[32m\u001b[1m  Updating\u001b[22m\u001b[39m `/opt/julia/environments/v1.1/Manifest.toml`\n",
      " \u001b[90m [69666777]\u001b[39m\u001b[92m + Arrow v0.2.3\u001b[39m\n",
      " \u001b[90m [e1450e63]\u001b[39m\u001b[92m + BufferedStreams v1.0.0\u001b[39m\n",
      " \u001b[90m [5d742f6a]\u001b[39m\u001b[92m + CSVFiles v0.15.0\u001b[39m\n",
      " \u001b[90m [159f3aea]\u001b[39m\u001b[92m + Cairo v0.6.0\u001b[39m\n",
      " \u001b[90m [e7dc6d0d]\u001b[39m\u001b[92m + DataValues v0.4.7\u001b[39m\n",
      " \u001b[90m [5721bf48]\u001b[39m\u001b[92m + DataVoyager v0.3.1\u001b[39m\n",
      " \u001b[90m [497a8b3b]\u001b[39m\u001b[92m + DoubleFloats v0.8.2\u001b[39m\n",
      " \u001b[90m [a1bb12fb]\u001b[39m\u001b[92m + Electron v1.0.0\u001b[39m\n",
      " \u001b[90m [89b67f3b]\u001b[39m\u001b[92m + ExcelFiles v0.9.1\u001b[39m\n",
      " \u001b[90m [c04bee98]\u001b[39m\u001b[92m + ExcelReaders v0.11.0\u001b[39m\n",
      " \u001b[90m [b675d258]\u001b[39m\u001b[92m + FeatherFiles v0.8.1\u001b[39m\n",
      " \u001b[90m [409f5150]\u001b[39m\u001b[92m + FeatherLib v0.1.3\u001b[39m\n",
      " \u001b[90m [8fc22ac5]\u001b[39m\u001b[92m + FilePaths v0.7.0\u001b[39m\n",
      " \u001b[90m [48062228]\u001b[39m\u001b[92m + FilePathsBase v0.4.0\u001b[39m\n",
      " \u001b[90m [53afe959]\u001b[39m\u001b[92m + FlatBuffers v0.5.3\u001b[39m\n",
      " \u001b[90m [01680d73]\u001b[39m\u001b[92m + GenericSVD v0.2.1\u001b[39m\n",
      " \u001b[90m [c145ed77]\u001b[39m\u001b[92m + GenericSchur v0.2.3\u001b[39m\n",
      " \u001b[90m [0862f596]\u001b[39m\u001b[92m + HTTPClient v0.2.1\u001b[39m\n",
      " \u001b[90m [d9be37ee]\u001b[39m\u001b[92m + Homebrew v0.7.1\u001b[39m\n",
      " \u001b[90m [1c8ee90f]\u001b[39m\u001b[92m + IterableTables v0.11.0\u001b[39m\n",
      " \u001b[90m [b27032c2]\u001b[39m\u001b[92m + LibCURL v0.5.1\u001b[39m\n",
      " \u001b[90m [522f3ed2]\u001b[39m\u001b[92m + LibExpat v0.5.0\u001b[39m\n",
      " \u001b[90m [2ec943e9]\u001b[39m\u001b[92m + Libz v1.0.0\u001b[39m\n",
      " \u001b[90m [f9f48841]\u001b[39m\u001b[92m + MemPool v0.2.0\u001b[39m\n",
      " \u001b[90m [2bd173c7]\u001b[39m\u001b[92m + NodeJS v0.6.0\u001b[39m\n",
      " \u001b[90m [4d1e1d77]\u001b[39m\u001b[92m + Nullables v0.0.8\u001b[39m\n",
      " \u001b[90m [626c502c]\u001b[39m\u001b[92m + Parquet v0.2.0\u001b[39m\n",
      " \u001b[90m [46a55296]\u001b[39m\u001b[92m + ParquetFiles v0.2.0\u001b[39m\n",
      " \u001b[90m [f27b6e38]\u001b[39m\u001b[92m + Polynomials v0.5.2\u001b[39m\n",
      " \u001b[90m [3349acd9]\u001b[39m\u001b[92m + ProtoBuf v0.7.0\u001b[39m\n",
      " \u001b[90m [be4d8f0f]\u001b[39m\u001b[92m + Quadmath v0.4.0\u001b[39m\n",
      " \u001b[90m [1a8c2f83]\u001b[39m\u001b[92m + Query v0.11.0\u001b[39m\n",
      " \u001b[90m [2aef5ad7]\u001b[39m\u001b[92m + QueryOperators v0.8.0\u001b[39m\n",
      " \u001b[90m [30ad73d7]\u001b[39m\u001b[92m + QueryTables v0.0.1\u001b[39m\n",
      " \u001b[90m [612083be]\u001b[39m\u001b[92m + Queryverse v0.3.1\u001b[39m\n",
      " \u001b[90m [d71aba96]\u001b[39m\u001b[92m + ReadStat v0.4.1\u001b[39m\n",
      " \u001b[90m [c4c386cf]\u001b[39m\u001b[92m + Rsvg v0.2.3\u001b[39m\n",
      " \u001b[90m [59d4ed8c]\u001b[39m\u001b[92m + Snappy v0.3.0\u001b[39m\n",
      " \u001b[90m [1463e38c]\u001b[39m\u001b[92m + StatFiles v0.8.0\u001b[39m\n",
      " \u001b[90m [69024149]\u001b[39m\u001b[92m + StringEncodings v0.3.1\u001b[39m\n",
      " \u001b[90m [5e66a065]\u001b[39m\u001b[92m + TableShowUtils v0.2.5\u001b[39m\n",
      " \u001b[90m [382cd787]\u001b[39m\u001b[92m + TableTraitsUtils v0.4.0\u001b[39m\n",
      " \u001b[90m [e0df1984]\u001b[39m\u001b[92m + TextParse v0.9.1\u001b[39m\n",
      " \u001b[90m [8d9c9c80]\u001b[39m\u001b[92m + Thrift v0.6.0\u001b[39m\n",
      " \u001b[90m [112f6efa]\u001b[39m\u001b[92m + VegaLite v0.6.0\u001b[39m\n",
      " \u001b[90m [c17dfb99]\u001b[39m\u001b[92m + WinRPM v0.4.2\u001b[39m\n",
      " \u001b[90m [fdbf4ff8]\u001b[39m\u001b[92m + XLSX v0.4.7\u001b[39m\n",
      " \u001b[90m [a5390f91]\u001b[39m\u001b[92m + ZipFile v0.8.1\u001b[39m\n",
      "\u001b[32m\u001b[1m  Building\u001b[22m\u001b[39m Electron ───────→ `/opt/julia/packages/Electron/wL84D/deps/build.log`\n",
      "\u001b[32m\u001b[1m  Building\u001b[22m\u001b[39m LibCURL ────────→ `/opt/julia/packages/LibCURL/teHPG/deps/build.log`\n",
      "\u001b[32m\u001b[1m  Building\u001b[22m\u001b[39m WinRPM ─────────→ `/opt/julia/packages/WinRPM/Y9QdZ/deps/build.log`\n",
      "\u001b[32m\u001b[1m  Building\u001b[22m\u001b[39m Homebrew ───────→ `/opt/julia/packages/Homebrew/s09IX/deps/build.log`\n",
      "\u001b[32m\u001b[1m  Building\u001b[22m\u001b[39m Cairo ──────────→ `/opt/julia/packages/Cairo/p68X8/deps/build.log`\n",
      "\u001b[32m\u001b[1m  Building\u001b[22m\u001b[39m Rsvg ───────────→ `/opt/julia/packages/Rsvg/uwc9D/deps/build.log`\n",
      "\u001b[32m\u001b[1m  Building\u001b[22m\u001b[39m ZipFile ────────→ `/opt/julia/packages/ZipFile/YHTbb/deps/build.log`\n",
      "\u001b[32m\u001b[1m  Building\u001b[22m\u001b[39m StringEncodings → `/opt/julia/packages/StringEncodings/ICuGB/deps/build.log`\n",
      "\u001b[32m\u001b[1m  Building\u001b[22m\u001b[39m ReadStat ───────→ `/opt/julia/packages/ReadStat/JnXAZ/deps/build.log`\n",
      "\u001b[32m\u001b[1m  Building\u001b[22m\u001b[39m Thrift ─────────→ `/opt/julia/packages/Thrift/hqiAN/deps/build.log`\n",
      "\u001b[32m\u001b[1m  Building\u001b[22m\u001b[39m NodeJS ─────────→ `/opt/julia/packages/NodeJS/rx0mH/deps/build.log`\n",
      "\u001b[32m\u001b[1m  Building\u001b[22m\u001b[39m VegaLite ───────→ `/opt/julia/packages/VegaLite/5UYyY/deps/build.log`\n",
      "\u001b[32m\u001b[1m  Building\u001b[22m\u001b[39m Snappy ─────────→ `/opt/julia/packages/Snappy/O2CHr/deps/build.log`\n"
     ]
    }
   ],
   "source": [
    "import Pkg\n",
    "Pkg.add(\"Queryverse\")"
   ]
  },
  {
   "cell_type": "code",
   "execution_count": null,
   "metadata": {},
   "outputs": [
    {
     "name": "stderr",
     "output_type": "stream",
     "text": [
      "┌ Info: Precompiling Queryverse [612083be-0b0f-5412-89c1-4e7c75506a58]\n",
      "└ @ Base loading.jl:1186\n"
     ]
    }
   ],
   "source": [
    "using Queryverse, VegaDatasets, IndexedTables"
   ]
  },
  {
   "cell_type": "code",
   "execution_count": null,
   "metadata": {},
   "outputs": [],
   "source": []
  }
 ],
 "metadata": {
  "kernelspec": {
   "display_name": "Julia 1.1.0",
   "language": "julia",
   "name": "julia-1.1"
  },
  "language_info": {
   "file_extension": ".jl",
   "mimetype": "application/julia",
   "name": "julia",
   "version": "1.1.0"
  }
 },
 "nbformat": 4,
 "nbformat_minor": 2
}
